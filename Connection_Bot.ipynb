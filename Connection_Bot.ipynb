{
 "cells": [
  {
   "cell_type": "code",
   "execution_count": 7,
   "id": "565d584a",
   "metadata": {},
   "outputs": [],
   "source": [
    "import json\n",
    "import os\n",
    "\n",
    "\n",
    "# Variable for the location of settings.json\n",
    "import_filepath = \"\"\n",
    "\n",
    "\n",
    "# Function to import settings from settings.json\n",
    "def get_project_settings(importFilepath):\n",
    "    # Test the filepath to sure it exists\n",
    "    if os.path.exists(importFilepath):\n",
    "        # Open the file\n",
    "        f = open(importFilepath, \"r\")\n",
    "        # Get the information from file\n",
    "        project_settings = json.load(f)\n",
    "        # Close the file\n",
    "        f.close()\n",
    "        # Return project settings to program\n",
    "        return project_settings\n",
    "    else:\n",
    "        return ImportError\n",
    "\n",
    "# Press the green button in the gutter to run the script.\n",
    "if __name__ == '__main__':\n",
    "    # Import project settings\n",
    "    project_settings = get_project_settings(import_filepath)\n"
   ]
  },
  {
   "cell_type": "code",
   "execution_count": 8,
   "id": "2bba5ab9",
   "metadata": {},
   "outputs": [],
   "source": [
    "from binance.spot import Spot\n",
    "\n",
    "\n",
    "# Function to query Binance and retrieve status\n",
    "def query_binance_status():\n",
    "    # Query for system status\n",
    "    status = Spot().system_status()\n",
    "    if status['status'] == 0:\n",
    "        return True\n",
    "    else:\n",
    "        raise ConnectionError"
   ]
  },
  {
   "cell_type": "code",
   "execution_count": null,
   "id": "82b1579b",
   "metadata": {},
   "outputs": [],
   "source": []
  }
 ],
 "metadata": {
  "kernelspec": {
   "display_name": "Python 3 (ipykernel)",
   "language": "python",
   "name": "python3"
  },
  "language_info": {
   "codemirror_mode": {
    "name": "ipython",
    "version": 3
   },
   "file_extension": ".py",
   "mimetype": "text/x-python",
   "name": "python",
   "nbconvert_exporter": "python",
   "pygments_lexer": "ipython3",
   "version": "3.8.2"
  }
 },
 "nbformat": 4,
 "nbformat_minor": 5
}
